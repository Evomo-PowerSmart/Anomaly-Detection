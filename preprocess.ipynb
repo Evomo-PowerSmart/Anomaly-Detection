{
 "cells": [
  {
   "cell_type": "markdown",
   "metadata": {},
   "source": [
    "# Evomo Power Smart Detection Data Preprocessing\n",
    "Bangkit Company Capstone Project [C242-PS01]\n",
    "\n",
    "## Team Members\n",
    "- M011B4KY1007 - Darren Christian Liharja\n",
    "- C002B4KY2028 - Ivanoel Rhema Christama Adhiprama\n",
    "- C002B4KY3771 - Reyhan Ghifari Tanjung\n",
    "- A001B4KY2884 - Muhammad Haris Sabil Al Karim\n",
    "- A318B4KX1511 - Fina Febrianti\n",
    "\n",
    "## Problem Statements\n",
    "Excessive energy consumption due to inefficient usage leads to increased costs and negative impacts on the environment Currently, energy inefficiencies and unusual usage patterns often go undetected, resulting in wasted resources. This project aims to develop an application that can monitor and detect energy usage patterns, provide real-time energy consumption information, and identify anomalies in energy usage. The application will also send notifications when anomalies occur, helping facility managers reduce energy waste and improve efficiency.\n",
    "\n",
    "## Machine Learning Path Solution\n",
    "Develop an anomaly detection model to identify spikes in energy consumption, enabling building managers to detect and address potential issues effectively."
   ]
  },
  {
   "cell_type": "markdown",
   "metadata": {},
   "source": [
    "## Data Source\n",
    "Data are provided by Evomo. Data provided by Evomo are\n",
    "- Energy Usage on certain areas"
   ]
  },
  {
   "cell_type": "markdown",
   "metadata": {},
   "source": [
    "## Data Exploration and Cleaning"
   ]
  },
  {
   "cell_type": "markdown",
   "metadata": {},
   "source": [
    "### Importing Libraries"
   ]
  },
  {
   "cell_type": "code",
   "execution_count": 1,
   "metadata": {},
   "outputs": [],
   "source": [
    "import re\n",
    "import pandas as pd\n",
    "import numpy as np\n",
    "import matplotlib.pyplot as plt"
   ]
  },
  {
   "cell_type": "markdown",
   "metadata": {},
   "source": [
    "### Extracting Data from Excel\n",
    "The provided data are in the form of xlsx"
   ]
  },
  {
   "cell_type": "code",
   "execution_count": 2,
   "metadata": {},
   "outputs": [
    {
     "data": {
      "text/html": [
       "<div>\n",
       "<style scoped>\n",
       "    .dataframe tbody tr th:only-of-type {\n",
       "        vertical-align: middle;\n",
       "    }\n",
       "\n",
       "    .dataframe tbody tr th {\n",
       "        vertical-align: top;\n",
       "    }\n",
       "\n",
       "    .dataframe thead th {\n",
       "        text-align: right;\n",
       "    }\n",
       "</style>\n",
       "<table border=\"1\" class=\"dataframe\">\n",
       "  <thead>\n",
       "    <tr style=\"text-align: right;\">\n",
       "      <th></th>\n",
       "      <th>Time</th>\n",
       "      <th>Data</th>\n",
       "    </tr>\n",
       "  </thead>\n",
       "  <tbody>\n",
       "    <tr>\n",
       "      <th>0</th>\n",
       "      <td>26 Oct 2024  06:09:34</td>\n",
       "      <td>{counter: 1,data: \"{\"meter_type\":\"mk10m\",\"data...</td>\n",
       "    </tr>\n",
       "    <tr>\n",
       "      <th>1</th>\n",
       "      <td>26 Oct 2024  06:07:45</td>\n",
       "      <td>{data: \"{\"meter_type\":\"mk10m\",\"data_type\":\"ins...</td>\n",
       "    </tr>\n",
       "    <tr>\n",
       "      <th>2</th>\n",
       "      <td>25 Oct 2024  13:59:39</td>\n",
       "      <td>{counter: 48,data: \"{\"meter_type\":\"mk10m\",\"dat...</td>\n",
       "    </tr>\n",
       "    <tr>\n",
       "      <th>3</th>\n",
       "      <td>25 Oct 2024  13:39:30</td>\n",
       "      <td>{counter: 46,data: \"{\"meter_type\":\"mk10m\",\"dat...</td>\n",
       "    </tr>\n",
       "    <tr>\n",
       "      <th>4</th>\n",
       "      <td>25 Oct 2024  13:29:34</td>\n",
       "      <td>{counter: 45,data: \"{\"meter_type\":\"mk10m\",\"dat...</td>\n",
       "    </tr>\n",
       "    <tr>\n",
       "      <th>...</th>\n",
       "      <td>...</td>\n",
       "      <td>...</td>\n",
       "    </tr>\n",
       "    <tr>\n",
       "      <th>27407</th>\n",
       "      <td>01 Jan 2024  08:10:06</td>\n",
       "      <td>{counter: 9,data: \"{\"meter_type\":\"mk10m\",\"data...</td>\n",
       "    </tr>\n",
       "    <tr>\n",
       "      <th>27408</th>\n",
       "      <td>01 Jan 2024  08:00:15</td>\n",
       "      <td>{counter: 8,data: \"{\"meter_type\":\"mk10m\",\"data...</td>\n",
       "    </tr>\n",
       "    <tr>\n",
       "      <th>27409</th>\n",
       "      <td>01 Jan 2024  07:50:16</td>\n",
       "      <td>{counter: 7,data: \"{\"meter_type\":\"mk10m\",\"data...</td>\n",
       "    </tr>\n",
       "    <tr>\n",
       "      <th>27410</th>\n",
       "      <td>01 Jan 2024  07:30:18</td>\n",
       "      <td>{counter: 5,data: \"{\"meter_type\":\"mk10m\",\"data...</td>\n",
       "    </tr>\n",
       "    <tr>\n",
       "      <th>27411</th>\n",
       "      <td>01 Jan 2024  07:20:10</td>\n",
       "      <td>{counter: 4,data: \"{\"meter_type\":\"mk10m\",\"data...</td>\n",
       "    </tr>\n",
       "  </tbody>\n",
       "</table>\n",
       "<p>27412 rows × 2 columns</p>\n",
       "</div>"
      ],
      "text/plain": [
       "                        Time  \\\n",
       "0      26 Oct 2024  06:09:34   \n",
       "1      26 Oct 2024  06:07:45   \n",
       "2      25 Oct 2024  13:59:39   \n",
       "3      25 Oct 2024  13:39:30   \n",
       "4      25 Oct 2024  13:29:34   \n",
       "...                      ...   \n",
       "27407  01 Jan 2024  08:10:06   \n",
       "27408  01 Jan 2024  08:00:15   \n",
       "27409  01 Jan 2024  07:50:16   \n",
       "27410  01 Jan 2024  07:30:18   \n",
       "27411  01 Jan 2024  07:20:10   \n",
       "\n",
       "                                                    Data  \n",
       "0      {counter: 1,data: \"{\"meter_type\":\"mk10m\",\"data...  \n",
       "1      {data: \"{\"meter_type\":\"mk10m\",\"data_type\":\"ins...  \n",
       "2      {counter: 48,data: \"{\"meter_type\":\"mk10m\",\"dat...  \n",
       "3      {counter: 46,data: \"{\"meter_type\":\"mk10m\",\"dat...  \n",
       "4      {counter: 45,data: \"{\"meter_type\":\"mk10m\",\"dat...  \n",
       "...                                                  ...  \n",
       "27407  {counter: 9,data: \"{\"meter_type\":\"mk10m\",\"data...  \n",
       "27408  {counter: 8,data: \"{\"meter_type\":\"mk10m\",\"data...  \n",
       "27409  {counter: 7,data: \"{\"meter_type\":\"mk10m\",\"data...  \n",
       "27410  {counter: 5,data: \"{\"meter_type\":\"mk10m\",\"data...  \n",
       "27411  {counter: 4,data: \"{\"meter_type\":\"mk10m\",\"data...  \n",
       "\n",
       "[27412 rows x 2 columns]"
      ]
     },
     "execution_count": 2,
     "metadata": {},
     "output_type": "execute_result"
    }
   ],
   "source": [
    "df = pd.read_excel('data/Historical Data.xlsx', skiprows=1)\n",
    "df"
   ]
  },
  {
   "cell_type": "markdown",
   "metadata": {},
   "source": [
    "### Data Explanation\n",
    "The dataset consists of two columns:\n",
    "- Time: Contains timestamps which indicates when the data was collected.\n",
    "- Data: Contains energy usage information for specific areas."
   ]
  },
  {
   "cell_type": "code",
   "execution_count": 3,
   "metadata": {},
   "outputs": [],
   "source": [
    "# A sample data from \"data\" column\n",
    "sample = {\n",
    "    \"counter\": 1,\n",
    "    \"data\": {\n",
    "        \"meter_type\": \"mk10m\",\n",
    "        \"data_type\": \"instant data\",\n",
    "        \"reading_time\": \"2024-10-26 06:10:03\",\n",
    "        \"meter_serial_number\": \"251400321\",\n",
    "        \"active_energy_import\": 49927072,\n",
    "        \"active_energy_export\": 0,\n",
    "        \"reactive_energy_import\": 82461,\n",
    "        \"reactive_energy_export\": 27877274,\n",
    "        \"apparent_energy_import\": 105524051,\n",
    "        \"apparent_energy_export\": 0,\n",
    "        \"instantaneous_volatage_L1\": 228.217,\n",
    "        \"instantaneous_volatage_L2\": 228.282,\n",
    "        \"instantaneous_volatage_L3\": 230.126,\n",
    "        \"instantaneous_current_L1\": 0.387,\n",
    "        \"instantaneous_current_L2\": 0.403,\n",
    "        \"instantaneous_current_L3\": 0.41400000000000003,\n",
    "        \"instantaneous_net_frequency\": 49.97,\n",
    "        \"instantaneous_power_factor\": 0.08979999999999999,\n",
    "        \"create_date\": \"2024-10-26 06:10:06\",\n",
    "        \"raw\": \"0f80000000000212167016c806671c254b0a09323531343030333231150000000002f9d3a015000000000000000015000000000001421d150000000001a95f9a1500000000064a2b531500000000000000000600037b790600037bba06000382ee06000001830600000193060000019e1213850500000382\"\n",
    "    },\n",
    "    \"devEui\": \"123494e68681e40c\",\n",
    "    \"port\": 11,\n",
    "    \"radio\": {\n",
    "        \"modulation\": {\n",
    "        \"bandwidth\": 125000,\n",
    "        \"type\": \"LORA\",\n",
    "        \"spreading\": 8,\n",
    "        \"coderate\": \"4/5\"\n",
    "        },\n",
    "        \"hardware\": {\n",
    "        \"status\": 1,\n",
    "        \"chain\": 0,\n",
    "        \"tmst\": 0,\n",
    "        \"snr\": 1,\n",
    "        \"rssi\": -114,\n",
    "        \"channel\": 0,\n",
    "        \"gps\": {\n",
    "            \"lat\": -6.237232685089111,\n",
    "            \"lng\": 106.79916381835938,\n",
    "            \"alt\": 12\n",
    "        }\n",
    "        },\n",
    "        \"freq\": 921.8,\n",
    "        \"datarate\": 4,\n",
    "        \"time\": 1729897774.8805263\n",
    "    },\n",
    "    \"type\": \"uplink\"\n",
    "}"
   ]
  },
  {
   "cell_type": "markdown",
   "metadata": {},
   "source": [
    "Explanation of Electrical Concepts\n",
    "- active_energy_import: The total active energy imported into the system, measured in kilowatt-hours (kWh). This represents the actual energy consumed.\n",
    "- active_energy_export: The total active energy exported from the system, measured in kilowatt-hours (kWh). This occurs when excess energy is sent back to the grid.\n",
    "- reactive_energy_import: The cumulative reactive energy imported into the system, measured in kilovolt-ampere reactive hours (kVarh). Reactive energy supports the magnetic and electric fields in devices like transformers and motors.\n",
    "- reactive_energy_export: The cumulative reactive energy exported from the system, measured in kilovolt-ampere reactive hours (kVarh).\n",
    "- apparent_energy_import: The total apparent energy imported into the system, measured in kilovolt-ampere hours (kVAh). Apparent energy is the vector sum of active and reactive energy.\n",
    "- apparent_energy_export: The total apparent energy exported from the system, measured in kilovolt-ampere hours (kVAh).\n",
    "- instantaneous_voltage_L1, L2, L3: The real-time voltage levels across each phase of the three-phase power system, e.g., 228.217 V for phase L1.\n",
    "- instantaneous_current_L1, L2, L3: The real-time current levels flowing through each phase of the three-phase power system, e.g., 0.387 A for phase L1.\n",
    "- instantaneous_net_frequency: The real-time frequency of the electrical network, measured in hertz (Hz), e.g., 49.97 Hz, which indicates the stability of the power supply."
   ]
  },
  {
   "cell_type": "markdown",
   "metadata": {},
   "source": [
    "The image below could also help understand the concept between active, reactive, and apparent energy"
   ]
  },
  {
   "cell_type": "markdown",
   "metadata": {},
   "source": [
    "<img src=\"images/power.jpg\" alt=\"Energy Type\" style=\"width: 600px;\"/>"
   ]
  },
  {
   "cell_type": "markdown",
   "metadata": {},
   "source": [
    "### Advisor Suggestions\n",
    "- Focus on \"active_energy_import\", which represents actual electricity consumption. Since this data is cumulative, calculate the energy usage by subtracting the value at time A from the value at time B.\n",
    "- Use the data from February to August, as it offers the highest data quality."
   ]
  },
  {
   "cell_type": "markdown",
   "metadata": {},
   "source": [
    "### Extracting Important Data\n",
    "The \"data_type\" feature is also included to account for potential differences in active_energy_import readings across different data types."
   ]
  },
  {
   "cell_type": "code",
   "execution_count": 4,
   "metadata": {},
   "outputs": [],
   "source": [
    "def extract_active_energy(data_str):\n",
    "    match = re.search(r'\"active_energy_import\":\\s*(\\d+)', data_str)\n",
    "    if match:\n",
    "        return int(match.group(1))\n",
    "    return None\n",
    "\n",
    "def extract_data_type(data_str):\n",
    "    match = re.search(r'\"data_type\":\\s*\"(.*?)\"', data_str)\n",
    "    if match:\n",
    "        return match.group(1)\n",
    "    return None"
   ]
  },
  {
   "cell_type": "code",
   "execution_count": 5,
   "metadata": {},
   "outputs": [],
   "source": [
    "df['active energy import'] = df['Data'].apply(extract_active_energy)\n",
    "df['data type'] = df['Data'].apply(extract_data_type)"
   ]
  },
  {
   "cell_type": "markdown",
   "metadata": {},
   "source": [
    "Dropping the \"Data\" column to remove unnecessary features."
   ]
  },
  {
   "cell_type": "code",
   "execution_count": 6,
   "metadata": {},
   "outputs": [],
   "source": [
    "df = df.drop('Data', axis=1)"
   ]
  },
  {
   "cell_type": "markdown",
   "metadata": {},
   "source": [
    "converting \"Time\" column to dataframe index and datetime format for easier preprocessing"
   ]
  },
  {
   "cell_type": "code",
   "execution_count": 7,
   "metadata": {},
   "outputs": [],
   "source": [
    "df['Time'] = pd.to_datetime(df['Time'])\n",
    "df = df.set_index('Time')"
   ]
  },
  {
   "cell_type": "code",
   "execution_count": 8,
   "metadata": {},
   "outputs": [
    {
     "data": {
      "text/html": [
       "<div>\n",
       "<style scoped>\n",
       "    .dataframe tbody tr th:only-of-type {\n",
       "        vertical-align: middle;\n",
       "    }\n",
       "\n",
       "    .dataframe tbody tr th {\n",
       "        vertical-align: top;\n",
       "    }\n",
       "\n",
       "    .dataframe thead th {\n",
       "        text-align: right;\n",
       "    }\n",
       "</style>\n",
       "<table border=\"1\" class=\"dataframe\">\n",
       "  <thead>\n",
       "    <tr style=\"text-align: right;\">\n",
       "      <th></th>\n",
       "      <th>active energy import</th>\n",
       "      <th>data type</th>\n",
       "    </tr>\n",
       "    <tr>\n",
       "      <th>Time</th>\n",
       "      <th></th>\n",
       "      <th></th>\n",
       "    </tr>\n",
       "  </thead>\n",
       "  <tbody>\n",
       "    <tr>\n",
       "      <th>2024-10-26 06:09:34</th>\n",
       "      <td>49927072</td>\n",
       "      <td>instant data</td>\n",
       "    </tr>\n",
       "    <tr>\n",
       "      <th>2024-10-26 06:07:45</th>\n",
       "      <td>49927064</td>\n",
       "      <td>instant data</td>\n",
       "    </tr>\n",
       "    <tr>\n",
       "      <th>2024-10-25 13:59:39</th>\n",
       "      <td>49873262</td>\n",
       "      <td>instant data</td>\n",
       "    </tr>\n",
       "    <tr>\n",
       "      <th>2024-10-25 13:39:30</th>\n",
       "      <td>49867253</td>\n",
       "      <td>instant data</td>\n",
       "    </tr>\n",
       "    <tr>\n",
       "      <th>2024-10-25 13:29:34</th>\n",
       "      <td>49864248</td>\n",
       "      <td>instant data</td>\n",
       "    </tr>\n",
       "  </tbody>\n",
       "</table>\n",
       "</div>"
      ],
      "text/plain": [
       "                     active energy import     data type\n",
       "Time                                                   \n",
       "2024-10-26 06:09:34              49927072  instant data\n",
       "2024-10-26 06:07:45              49927064  instant data\n",
       "2024-10-25 13:59:39              49873262  instant data\n",
       "2024-10-25 13:39:30              49867253  instant data\n",
       "2024-10-25 13:29:34              49864248  instant data"
      ]
     },
     "execution_count": 8,
     "metadata": {},
     "output_type": "execute_result"
    }
   ],
   "source": [
    "df.head()"
   ]
  },
  {
   "cell_type": "code",
   "execution_count": 9,
   "metadata": {},
   "outputs": [
    {
     "data": {
      "image/png": "[encoded data removed]",
      "text/plain": [
       "<Figure size 1000x600 with 1 Axes>"
      ]
     },
     "metadata": {},
     "output_type": "display_data"
    }
   ],
   "source": [
    "plt.figure(figsize=(10, 6))\n",
    "for data_type in df['data type'].unique():\n",
    "    subset = df[df['data type'] == data_type]\n",
    "    plt.plot(subset.index, subset['active energy import'], label=data_type)\n",
    "\n",
    "plt.title('Active Energy Import Over Time by Data Type')\n",
    "plt.xlabel('Time')\n",
    "plt.ylabel('Active Energy Import')\n",
    "plt.legend(title='Data Type')\n",
    "plt.xticks(rotation=45)\n",
    "plt.tight_layout()\n",
    "plt.show()"
   ]
  },
  {
   "cell_type": "code",
   "execution_count": 10,
   "metadata": {},
   "outputs": [
    {
     "name": "stdout",
     "output_type": "stream",
     "text": [
      "77\n"
     ]
    }
   ],
   "source": [
    "eob_count = (df['data type'] == 'eob data').sum()\n",
    "print(eob_count)"
   ]
  },
  {
   "cell_type": "markdown",
   "metadata": {},
   "source": [
    "From the plot above, there are 2 data types\n",
    "- instant data\n",
    "- eob data\n",
    "Since eob data accounts for a very small percentage of the data. I decided to drop the eob data type completely to remove variance in the data"
   ]
  },
  {
   "cell_type": "markdown",
   "metadata": {},
   "source": [
    "### Removing Eob Data Type"
   ]
  },
  {
   "cell_type": "code",
   "execution_count": 11,
   "metadata": {},
   "outputs": [],
   "source": [
    "df.drop(df[df['data type'] == 'eob data'].index, inplace=True)"
   ]
  },
  {
   "cell_type": "markdown",
   "metadata": {},
   "source": [
    "## Creating New Data Frame\n",
    "To simplify the modeling process, a new dataframe will be created containing the features that will help identify energy usage anomalies."
   ]
  },
  {
   "cell_type": "markdown",
   "metadata": {},
   "source": [
    "Changing the timestamps to a consistent hourly rate instead of per polling allows for resampling the dataframe and calculating the average of \"active energy import\" over each hour."
   ]
  },
  {
   "cell_type": "code",
   "execution_count": 12,
   "metadata": {},
   "outputs": [],
   "source": [
    "def hourly_mean(df):\n",
    "    df_hourly = []\n",
    "    for hour, group in df.resample('h'):\n",
    "        mean_value = group['active energy import'].mean()\n",
    "        df_hourly.append((hour, mean_value))\n",
    "    \n",
    "    return pd.DataFrame(df_hourly, columns=['timestamp', 'hourly average'])"
   ]
  },
  {
   "cell_type": "code",
   "execution_count": 13,
   "metadata": {},
   "outputs": [],
   "source": [
    "df_hourly = hourly_mean(df)"
   ]
  },
  {
   "cell_type": "markdown",
   "metadata": {},
   "source": [
    "Checking on nan values which indicates there is no data on specific hours"
   ]
  },
  {
   "cell_type": "code",
   "execution_count": 14,
   "metadata": {},
   "outputs": [
    {
     "name": "stdout",
     "output_type": "stream",
     "text": [
      "1220\n"
     ]
    }
   ],
   "source": [
    "nan_count = df_hourly['hourly average'].isna().sum()\n",
    "print(nan_count)"
   ]
  },
  {
   "cell_type": "code",
   "execution_count": 15,
   "metadata": {},
   "outputs": [],
   "source": [
    "df_hourly = df_hourly.dropna(subset=['hourly average'])"
   ]
  },
  {
   "cell_type": "markdown",
   "metadata": {},
   "source": [
    "### Filtering Timestamps (February to August)\n",
    "Following the suggestions from company advisor. Only data from February to August will be taken"
   ]
  },
  {
   "cell_type": "code",
   "execution_count": 18,
   "metadata": {},
   "outputs": [],
   "source": [
    "def filter_february_to_august(df):\n",
    "    df['timestamp'] = pd.to_datetime(df['timestamp'])\n",
    "    filtered_df = df[(df['timestamp'].dt.month >= 2) & (df['timestamp'].dt.month <= 8)]\n",
    "    \n",
    "    return filtered_df"
   ]
  },
  {
   "cell_type": "code",
   "execution_count": 19,
   "metadata": {},
   "outputs": [],
   "source": [
    "df_hourly = filter_february_to_august(df_hourly)"
   ]
  },
  {
   "cell_type": "markdown",
   "metadata": {},
   "source": [
    "### Calculate Usage\n",
    "To calculate the energy usage, we would need the difference between time A and time B\n",
    "\n",
    "Points to consider\n",
    "-  there are missing values in the timestamp which might result in unexpectedly large usage\n",
    "\n",
    "To combat this problem the one of the solution is to use the formula \n",
    "usage = (active energy import[i] - active energy import[i-1])/difference in hour"
   ]
  },
  {
   "cell_type": "code",
   "execution_count": 20,
   "metadata": {},
   "outputs": [],
   "source": [
    "def calculate_usage(df):\n",
    "    df['usage'] = (df['hourly average'].diff() / (df['timestamp'].diff().dt.total_seconds() / 3600)) / 1000 # divided by 1000 to convert it to KwH\n",
    "    df['usage'].iloc[0] = 0 \n",
    "\n",
    "    return df"
   ]
  },
  {
   "cell_type": "code",
   "execution_count": 21,
   "metadata": {},
   "outputs": [
    {
     "name": "stderr",
     "output_type": "stream",
     "text": [
      "C:\\Users\\62813\\AppData\\Local\\Temp\\ipykernel_3816\\3859636708.py:3: FutureWarning: ChainedAssignmentError: behaviour will change in pandas 3.0!\n",
      "You are setting values through chained assignment. Currently this works in certain cases, but when using Copy-on-Write (which will become the default behaviour in pandas 3.0) this will never work to update the original DataFrame or Series, because the intermediate object on which we are setting values will behave as a copy.\n",
      "A typical example is when you are setting values in a column of a DataFrame, like:\n",
      "\n",
      "df[\"col\"][row_indexer] = value\n",
      "\n",
      "Use `df.loc[row_indexer, \"col\"] = values` instead, to perform the assignment in a single step and ensure this keeps updating the original `df`.\n",
      "\n",
      "See the caveats in the documentation: https://pandas.pydata.org/pandas-docs/stable/user_guide/indexing.html#returning-a-view-versus-a-copy\n",
      "\n",
      "  df['usage'].iloc[0] = 0\n",
      "C:\\Users\\62813\\AppData\\Local\\Temp\\ipykernel_3816\\3859636708.py:3: SettingWithCopyWarning: \n",
      "A value is trying to be set on a copy of a slice from a DataFrame\n",
      "\n",
      "See the caveats in the documentation: https://pandas.pydata.org/pandas-docs/stable/user_guide/indexing.html#returning-a-view-versus-a-copy\n",
      "  df['usage'].iloc[0] = 0\n"
     ]
    }
   ],
   "source": [
    "df_hourly = calculate_usage(df_hourly)"
   ]
  },
  {
   "cell_type": "markdown",
   "metadata": {},
   "source": [
    "### Adding Features\n",
    "Set the timestamp as the index and add \"hour\" and \"day of the week\" features to enhance the dataset for modeling purposes. These new features can help capture temporal patterns in energy usage."
   ]
  },
  {
   "cell_type": "code",
   "execution_count": 22,
   "metadata": {},
   "outputs": [],
   "source": [
    "df_hourly.set_index('timestamp', inplace=True)\n",
    "df_hourly['hour'] = df_hourly.index.hour\n",
    "df_hourly['day_of_week'] = df_hourly.index.dayofweek"
   ]
  },
  {
   "cell_type": "code",
   "execution_count": 23,
   "metadata": {},
   "outputs": [
    {
     "data": {
      "text/plain": [
       "<bound method NDFrame.head of                      hourly average      usage  hour  day_of_week\n",
       "timestamp                                                        \n",
       "2024-02-01 00:00:00    1.955991e+07   0.000000     0            3\n",
       "2024-02-01 01:00:00    1.956011e+07   0.199500     1            3\n",
       "2024-02-01 02:00:00    1.956033e+07   0.220500     2            3\n",
       "2024-02-01 03:00:00    1.956056e+07   0.225000     3            3\n",
       "2024-02-01 04:00:00    1.956076e+07   0.204500     4            3\n",
       "...                             ...        ...   ...          ...\n",
       "2024-08-28 09:00:00    4.186957e+07  13.110667     9            2\n",
       "2024-08-28 10:00:00    4.189131e+07  21.741000    10            2\n",
       "2024-08-28 11:00:00    4.190912e+07  17.805583    11            2\n",
       "2024-08-28 12:00:00    4.192575e+07  16.629350    12            2\n",
       "2024-08-28 13:00:00    4.194027e+07  14.523650    13            2\n",
       "\n",
       "[4477 rows x 4 columns]>"
      ]
     },
     "execution_count": 23,
     "metadata": {},
     "output_type": "execute_result"
    }
   ],
   "source": [
    "df_hourly.head"
   ]
  },
  {
   "cell_type": "code",
   "execution_count": 24,
   "metadata": {},
   "outputs": [],
   "source": [
    "df_hourly.to_csv('data/conv_data.csv')"
   ]
  }
 ],
 "metadata": {
  "kernelspec": {
   "display_name": "Python 3",
   "language": "python",
   "name": "python3"
  },
  "language_info": {
   "codemirror_mode": {
    "name": "ipython",
    "version": 3
   },
   "file_extension": ".py",
   "mimetype": "text/x-python",
   "name": "python",
   "nbconvert_exporter": "python",
   "pygments_lexer": "ipython3",
   "version": "3.12.0"
  }
 },
 "nbformat": 4,
 "nbformat_minor": 2
}
